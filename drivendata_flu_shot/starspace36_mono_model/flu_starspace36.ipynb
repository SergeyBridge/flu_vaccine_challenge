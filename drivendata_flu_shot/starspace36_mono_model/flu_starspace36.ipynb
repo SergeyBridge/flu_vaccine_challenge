{
 "cells": [
  {
   "cell_type": "markdown",
   "source": [
    "### В ноутбуке используется только одна модель - starspace, без стыковки с catboost или autogluon\n"
   ],
   "metadata": {
    "collapsed": false
   }
  },
  {
   "cell_type": "code",
   "execution_count": 1,
   "metadata": {
    "collapsed": true
   },
   "outputs": [
    {
     "name": "stdout",
     "output_type": "stream",
     "text": [
      "/home/sergey/mnt/st1500/Usr/Sergey/TheJob/Otus/ML_advanced2020/home_works/1. Auto_ML/drivendata_flu_shot/starspace36_mono_model\n"
     ]
    }
   ],
   "source": [
    "# import sys\n",
    "import os\n",
    "import pandas as pd\n",
    "# import numpy as np\n",
    "import matplotlib.pyplot as plt\n",
    "from catboost import CatBoostClassifier, Pool\n",
    "from sklearn.metrics import make_scorer, mean_absolute_error, roc_auc_score\n",
    "from sklearn.pipeline import Pipeline\n",
    "\n",
    "from sklearn.pipeline import make_union\n",
    "from sklearn.preprocessing import FunctionTransformer\n",
    "\n",
    "from sklearn.preprocessing import StandardScaler, MinMaxScaler\n",
    "from sklearn.impute import SimpleImputer\n",
    "from sklearn.model_selection import KFold\n",
    "\n",
    "from sklearn.model_selection import train_test_split\n",
    "from sklearn.model_selection import cross_val_score\n",
    "\n",
    "from category_encoders import OrdinalEncoder, OneHotEncoder, CountEncoder\n",
    "import sys\n",
    "import starwrap as sw\n",
    "import starspace_resources\n",
    "from operator import itemgetter\n",
    "\n",
    "\n",
    "\n",
    "from pathlib import Path\n",
    "import pickle\n",
    "import gc\n",
    "\n",
    "\n",
    "sys.path.append('../')\n",
    "import config\n",
    "\n",
    "\n",
    "pd.set_option('display.max_rows', 120)\n",
    "plt.style.use(\"dark_background\")\n",
    "plt.rcParams['figure.figsize'] = (20, 15)\n",
    "\n",
    "os.environ['PYDEVD_USE_CYTHON'] = 'Yes'\n",
    "\n",
    "print(Path.cwd())\n"
   ]
  },
  {
   "cell_type": "code",
   "execution_count": 2,
   "outputs": [],
   "source": [
    "X = pd.read_csv(\"../input/training_set_features.csv\", index_col='respondent_id', low_memory=False)\n",
    "y = pd.read_csv(\"../input/training_set_labels.csv\", index_col='respondent_id', low_memory=False)\n",
    "submission_format = pd.read_csv(\"../input/submission_format.csv\", index_col='respondent_id', low_memory=False)\n",
    "test_set = pd.read_csv(\"../input/test_set_features.csv\", index_col='respondent_id', low_memory=False)"
   ],
   "metadata": {
    "collapsed": false,
    "pycharm": {
     "name": "#%%\n"
    }
   }
  },
  {
   "cell_type": "code",
   "execution_count": 3,
   "outputs": [
    {
     "name": "stdout",
     "output_type": "stream",
     "text": [
      "y.head()\n"
     ]
    },
    {
     "data": {
      "text/plain": "               h1n1_vaccine  seasonal_vaccine\nrespondent_id                                \n0                         0                 0\n1                         0                 1\n2                         0                 0\n3                         0                 1\n4                         0                 0",
      "text/html": "<div>\n<style scoped>\n    .dataframe tbody tr th:only-of-type {\n        vertical-align: middle;\n    }\n\n    .dataframe tbody tr th {\n        vertical-align: top;\n    }\n\n    .dataframe thead th {\n        text-align: right;\n    }\n</style>\n<table border=\"1\" class=\"dataframe\">\n  <thead>\n    <tr style=\"text-align: right;\">\n      <th></th>\n      <th>h1n1_vaccine</th>\n      <th>seasonal_vaccine</th>\n    </tr>\n    <tr>\n      <th>respondent_id</th>\n      <th></th>\n      <th></th>\n    </tr>\n  </thead>\n  <tbody>\n    <tr>\n      <th>0</th>\n      <td>0</td>\n      <td>0</td>\n    </tr>\n    <tr>\n      <th>1</th>\n      <td>0</td>\n      <td>1</td>\n    </tr>\n    <tr>\n      <th>2</th>\n      <td>0</td>\n      <td>0</td>\n    </tr>\n    <tr>\n      <th>3</th>\n      <td>0</td>\n      <td>1</td>\n    </tr>\n    <tr>\n      <th>4</th>\n      <td>0</td>\n      <td>0</td>\n    </tr>\n  </tbody>\n</table>\n</div>"
     },
     "execution_count": 3,
     "metadata": {},
     "output_type": "execute_result"
    }
   ],
   "source": [
    "print('y.head()')\n",
    "y.head()"
   ],
   "metadata": {
    "collapsed": false,
    "pycharm": {
     "name": "#%%\n"
    }
   }
  },
  {
   "cell_type": "code",
   "execution_count": 4,
   "outputs": [
    {
     "name": "stdout",
     "output_type": "stream",
     "text": [
      "test_set\n"
     ]
    },
    {
     "data": {
      "text/plain": "               h1n1_concern  h1n1_knowledge  behavioral_antiviral_meds  \\\nrespondent_id                                                            \n26707                   2.0             2.0                        0.0   \n26708                   1.0             1.0                        0.0   \n26709                   2.0             2.0                        0.0   \n26710                   1.0             1.0                        0.0   \n26711                   3.0             1.0                        1.0   \n\n               behavioral_avoidance  behavioral_face_mask  \\\nrespondent_id                                               \n26707                           1.0                   0.0   \n26708                           0.0                   0.0   \n26709                           0.0                   1.0   \n26710                           0.0                   0.0   \n26711                           1.0                   0.0   \n\n               behavioral_wash_hands  behavioral_large_gatherings  \\\nrespondent_id                                                       \n26707                            1.0                          1.0   \n26708                            0.0                          0.0   \n26709                            1.0                          1.0   \n26710                            0.0                          0.0   \n26711                            1.0                          1.0   \n\n               behavioral_outside_home  behavioral_touch_face  \\\nrespondent_id                                                   \n26707                              0.0                    1.0   \n26708                              0.0                    0.0   \n26709                              1.0                    1.0   \n26710                              0.0                    0.0   \n26711                              1.0                    1.0   \n\n               doctor_recc_h1n1  ...             income_poverty  \\\nrespondent_id                    ...                              \n26707                       0.0  ...                  > $75,000   \n26708                       0.0  ...              Below Poverty   \n26709                       0.0  ...                  > $75,000   \n26710                       1.0  ...  <= $75,000, Above Poverty   \n26711                       0.0  ...  <= $75,000, Above Poverty   \n\n               marital_status  rent_or_own   employment_status  \\\nrespondent_id                                                    \n26707             Not Married         Rent            Employed   \n26708             Not Married         Rent            Employed   \n26709                 Married          Own            Employed   \n26710                 Married          Own  Not in Labor Force   \n26711             Not Married          Own            Employed   \n\n               hhs_geo_region                census_msa  household_adults  \\\nrespondent_id                                                               \n26707                mlyzmhmf  MSA, Not Principle  City               1.0   \n26708                bhuqouqj                   Non-MSA               3.0   \n26709                lrircsnp                   Non-MSA               1.0   \n26710                lrircsnp  MSA, Not Principle  City               1.0   \n26711                lzgpxyit                   Non-MSA               0.0   \n\n               household_children  employment_industry  employment_occupation  \nrespondent_id                                                                  \n26707                         0.0             atmlpfrs               hfxkjkmi  \n26708                         0.0             atmlpfrs               xqwwgdyp  \n26709                         0.0             nduyfdeo               pvmttkik  \n26710                         0.0                  NaN                    NaN  \n26711                         1.0             fcxhlnwr               mxkfnird  \n\n[5 rows x 35 columns]",
      "text/html": "<div>\n<style scoped>\n    .dataframe tbody tr th:only-of-type {\n        vertical-align: middle;\n    }\n\n    .dataframe tbody tr th {\n        vertical-align: top;\n    }\n\n    .dataframe thead th {\n        text-align: right;\n    }\n</style>\n<table border=\"1\" class=\"dataframe\">\n  <thead>\n    <tr style=\"text-align: right;\">\n      <th></th>\n      <th>h1n1_concern</th>\n      <th>h1n1_knowledge</th>\n      <th>behavioral_antiviral_meds</th>\n      <th>behavioral_avoidance</th>\n      <th>behavioral_face_mask</th>\n      <th>behavioral_wash_hands</th>\n      <th>behavioral_large_gatherings</th>\n      <th>behavioral_outside_home</th>\n      <th>behavioral_touch_face</th>\n      <th>doctor_recc_h1n1</th>\n      <th>...</th>\n      <th>income_poverty</th>\n      <th>marital_status</th>\n      <th>rent_or_own</th>\n      <th>employment_status</th>\n      <th>hhs_geo_region</th>\n      <th>census_msa</th>\n      <th>household_adults</th>\n      <th>household_children</th>\n      <th>employment_industry</th>\n      <th>employment_occupation</th>\n    </tr>\n    <tr>\n      <th>respondent_id</th>\n      <th></th>\n      <th></th>\n      <th></th>\n      <th></th>\n      <th></th>\n      <th></th>\n      <th></th>\n      <th></th>\n      <th></th>\n      <th></th>\n      <th></th>\n      <th></th>\n      <th></th>\n      <th></th>\n      <th></th>\n      <th></th>\n      <th></th>\n      <th></th>\n      <th></th>\n      <th></th>\n      <th></th>\n    </tr>\n  </thead>\n  <tbody>\n    <tr>\n      <th>26707</th>\n      <td>2.0</td>\n      <td>2.0</td>\n      <td>0.0</td>\n      <td>1.0</td>\n      <td>0.0</td>\n      <td>1.0</td>\n      <td>1.0</td>\n      <td>0.0</td>\n      <td>1.0</td>\n      <td>0.0</td>\n      <td>...</td>\n      <td>&gt; $75,000</td>\n      <td>Not Married</td>\n      <td>Rent</td>\n      <td>Employed</td>\n      <td>mlyzmhmf</td>\n      <td>MSA, Not Principle  City</td>\n      <td>1.0</td>\n      <td>0.0</td>\n      <td>atmlpfrs</td>\n      <td>hfxkjkmi</td>\n    </tr>\n    <tr>\n      <th>26708</th>\n      <td>1.0</td>\n      <td>1.0</td>\n      <td>0.0</td>\n      <td>0.0</td>\n      <td>0.0</td>\n      <td>0.0</td>\n      <td>0.0</td>\n      <td>0.0</td>\n      <td>0.0</td>\n      <td>0.0</td>\n      <td>...</td>\n      <td>Below Poverty</td>\n      <td>Not Married</td>\n      <td>Rent</td>\n      <td>Employed</td>\n      <td>bhuqouqj</td>\n      <td>Non-MSA</td>\n      <td>3.0</td>\n      <td>0.0</td>\n      <td>atmlpfrs</td>\n      <td>xqwwgdyp</td>\n    </tr>\n    <tr>\n      <th>26709</th>\n      <td>2.0</td>\n      <td>2.0</td>\n      <td>0.0</td>\n      <td>0.0</td>\n      <td>1.0</td>\n      <td>1.0</td>\n      <td>1.0</td>\n      <td>1.0</td>\n      <td>1.0</td>\n      <td>0.0</td>\n      <td>...</td>\n      <td>&gt; $75,000</td>\n      <td>Married</td>\n      <td>Own</td>\n      <td>Employed</td>\n      <td>lrircsnp</td>\n      <td>Non-MSA</td>\n      <td>1.0</td>\n      <td>0.0</td>\n      <td>nduyfdeo</td>\n      <td>pvmttkik</td>\n    </tr>\n    <tr>\n      <th>26710</th>\n      <td>1.0</td>\n      <td>1.0</td>\n      <td>0.0</td>\n      <td>0.0</td>\n      <td>0.0</td>\n      <td>0.0</td>\n      <td>0.0</td>\n      <td>0.0</td>\n      <td>0.0</td>\n      <td>1.0</td>\n      <td>...</td>\n      <td>&lt;= $75,000, Above Poverty</td>\n      <td>Married</td>\n      <td>Own</td>\n      <td>Not in Labor Force</td>\n      <td>lrircsnp</td>\n      <td>MSA, Not Principle  City</td>\n      <td>1.0</td>\n      <td>0.0</td>\n      <td>NaN</td>\n      <td>NaN</td>\n    </tr>\n    <tr>\n      <th>26711</th>\n      <td>3.0</td>\n      <td>1.0</td>\n      <td>1.0</td>\n      <td>1.0</td>\n      <td>0.0</td>\n      <td>1.0</td>\n      <td>1.0</td>\n      <td>1.0</td>\n      <td>1.0</td>\n      <td>0.0</td>\n      <td>...</td>\n      <td>&lt;= $75,000, Above Poverty</td>\n      <td>Not Married</td>\n      <td>Own</td>\n      <td>Employed</td>\n      <td>lzgpxyit</td>\n      <td>Non-MSA</td>\n      <td>0.0</td>\n      <td>1.0</td>\n      <td>fcxhlnwr</td>\n      <td>mxkfnird</td>\n    </tr>\n  </tbody>\n</table>\n<p>5 rows × 35 columns</p>\n</div>"
     },
     "execution_count": 4,
     "metadata": {},
     "output_type": "execute_result"
    }
   ],
   "source": [
    "print(\"test_set\")\n",
    "test_set.head()\n"
   ],
   "metadata": {
    "collapsed": false,
    "pycharm": {
     "name": "#%%\n"
    }
   }
  },
  {
   "cell_type": "code",
   "execution_count": 5,
   "outputs": [],
   "source": [
    "# split for starspace and catboost datasets\n",
    "X_starspace = X\n",
    "y_starspace = y\n"
   ],
   "metadata": {
    "collapsed": false,
    "pycharm": {
     "name": "#%%\n"
    }
   }
  },
  {
   "cell_type": "code",
   "execution_count": 6,
   "outputs": [
    {
     "name": "stdout",
     "output_type": "stream",
     "text": [
      "dict_keys(['h1n1_vaccine', 'seasonal_vaccine', 'both_labels'])\n"
     ]
    }
   ],
   "source": [
    "# train corpus\n",
    "starspace_keys = starspace_resources.make_train_starspace_corpus(\n",
    "    X_starspace, y_starspace,\n",
    "    starspace_path=Path.cwd(),\n",
    "    to_file=True)\n",
    "\n",
    "print(starspace_keys)"
   ],
   "metadata": {
    "collapsed": false,
    "pycharm": {
     "name": "#%%\n"
    }
   }
  },
  {
   "cell_type": "code",
   "execution_count": 7,
   "outputs": [],
   "source": [
    "def get_model(starspace_key, force=False):\n",
    "    arg = sw.args()\n",
    "    arg.trainFile = f'{starspace_key}.txt'\n",
    "    arg.trainMode = 0\n",
    "    arg.epoch = 10\n",
    "    arg.lr = 0.01\n",
    "    arg.ngrams = 2\n",
    "\n",
    "    sp = sw.starSpace(arg)\n",
    "\n",
    "    model_fname = Path(f'starspace_{starspace_key}_model')\n",
    "    if (not force) and (model_fname.is_file()):\n",
    "        result = sp.initFromSavedModel(str(model_fname))\n",
    "        print('model loaded', model_fname)\n",
    "    else:\n",
    "        sp.init()\n",
    "        sp.train()\n",
    "        result = sp\n",
    "        sp.saveModel(str(model_fname))\n",
    "        print('successfully saved model ', str(model_fname))\n",
    "\n",
    "    return result"
   ],
   "metadata": {
    "collapsed": false,
    "pycharm": {
     "name": "#%%\n"
    }
   }
  },
  {
   "cell_type": "code",
   "execution_count": 8,
   "outputs": [
    {
     "name": "stdout",
     "output_type": "stream",
     "text": [
      "**************   test_corpus.head()  *************************\n"
     ]
    },
    {
     "data": {
      "text/plain": "                                                               0\nrespondent_id                                                   \n26707          0_2.0 1_2.0 2_0.0 3_1.0 4_0.0 5_1.0 6_1.0 7_0....\n26708          0_1.0 1_1.0 2_0.0 3_0.0 4_0.0 5_0.0 6_0.0 7_0....\n26709          0_2.0 1_2.0 2_0.0 3_0.0 4_1.0 5_1.0 6_1.0 7_1....\n26710          0_1.0 1_1.0 2_0.0 3_0.0 4_0.0 5_0.0 6_0.0 7_0....\n26711          0_3.0 1_1.0 2_1.0 3_1.0 4_0.0 5_1.0 6_1.0 7_1....",
      "text/html": "<div>\n<style scoped>\n    .dataframe tbody tr th:only-of-type {\n        vertical-align: middle;\n    }\n\n    .dataframe tbody tr th {\n        vertical-align: top;\n    }\n\n    .dataframe thead th {\n        text-align: right;\n    }\n</style>\n<table border=\"1\" class=\"dataframe\">\n  <thead>\n    <tr style=\"text-align: right;\">\n      <th></th>\n      <th>0</th>\n    </tr>\n    <tr>\n      <th>respondent_id</th>\n      <th></th>\n    </tr>\n  </thead>\n  <tbody>\n    <tr>\n      <th>26707</th>\n      <td>0_2.0 1_2.0 2_0.0 3_1.0 4_0.0 5_1.0 6_1.0 7_0....</td>\n    </tr>\n    <tr>\n      <th>26708</th>\n      <td>0_1.0 1_1.0 2_0.0 3_0.0 4_0.0 5_0.0 6_0.0 7_0....</td>\n    </tr>\n    <tr>\n      <th>26709</th>\n      <td>0_2.0 1_2.0 2_0.0 3_0.0 4_1.0 5_1.0 6_1.0 7_1....</td>\n    </tr>\n    <tr>\n      <th>26710</th>\n      <td>0_1.0 1_1.0 2_0.0 3_0.0 4_0.0 5_0.0 6_0.0 7_0....</td>\n    </tr>\n    <tr>\n      <th>26711</th>\n      <td>0_3.0 1_1.0 2_1.0 3_1.0 4_0.0 5_1.0 6_1.0 7_1....</td>\n    </tr>\n  </tbody>\n</table>\n</div>"
     },
     "execution_count": 8,
     "metadata": {},
     "output_type": "execute_result"
    }
   ],
   "source": [
    "# test corpus\n",
    "# Preprocess test data\n",
    "test_corpus_fname = starspace_resources.make_test_corpus(test_set)\n",
    "test_corpus = pd.read_csv(test_corpus_fname, index_col='respondent_id', low_memory=False)\n",
    "\n",
    "print('**************   test_corpus.head()  *************************')\n",
    "test_corpus.head()"
   ],
   "metadata": {
    "collapsed": false,
    "pycharm": {
     "name": "#%%\n"
    }
   }
  },
  {
   "cell_type": "code",
   "execution_count": 9,
   "outputs": [
    {
     "name": "stdout",
     "output_type": "stream",
     "text": [
      "getting model ..\n",
      "successfully saved model  starspace_h1n1_vaccine_model\n",
      "model got!\n",
      "<starwrap.starSpace object at 0x7fb97697e0a0>\n"
     ]
    }
   ],
   "source": [
    "print('getting model ..')\n",
    "model = get_model(starspace_key='h1n1_vaccine', force=True)\n",
    "\n",
    "print('model got!')\n",
    "print(model)"
   ],
   "metadata": {
    "collapsed": false,
    "pycharm": {
     "name": "#%%\n"
    }
   }
  },
  {
   "cell_type": "code",
   "execution_count": 18,
   "outputs": [
    {
     "name": "stdout",
     "output_type": "stream",
     "text": [
      "0_2.0 1_2.0 2_0.0 3_1.0 4_0.0 5_1.0 6_1.0 7_0.0 8_1.0 9_0.0 10_0.0 11_0.0 12_0.0 13_0.0 14_1.0 15_5.0 16_1.0 17_1.0 18_5.0 19_1.0 20_1.0 21_2 22_4.0 23_Hispanic 24_Female 25_3.0 26_Not Married 27_Rent 28_Employed 29_mlyzmhmf 30_MSA, Not Principle  City 31_1.0 32_0.0 33_atmlpfrs 34_hfxkjkmi\n",
      "{}\n",
      "0_1.0 1_1.0 2_0.0 3_0.0 4_0.0 5_0.0 6_0.0 7_0.0 8_0.0 9_0.0 10_0.0 11_0.0 12_0.0 13_0.0 14_0.0 15_4.0 16_1.0 17_1.0 18_4.0 19_1.0 20_1.0 21_1 22_3.0 23_White 24_Male 25_1.0 26_Not Married 27_Rent 28_Employed 29_bhuqouqj 30_Non-MSA 31_3.0 32_0.0 33_atmlpfrs 34_xqwwgdyp\n",
      "{}\n",
      "0_2.0 1_2.0 2_0.0 3_0.0 4_1.0 5_1.0 6_1.0 7_1.0 8_1.0 9_0.0 10_0.0 11_0.0 12_0.0 13_0.0 14_nan 15_5.0 16_4.0 17_2.0 18_5.0 19_4.0 20_4.0 21_4 22_4.0 23_White 24_Male 25_3.0 26_Married 27_Own 28_Employed 29_lrircsnp 30_Non-MSA 31_1.0 32_0.0 33_nduyfdeo 34_pvmttkik\n",
      "{}\n",
      "0_1.0 1_1.0 2_0.0 3_0.0 4_0.0 5_0.0 6_0.0 7_0.0 8_0.0 9_1.0 10_1.0 11_1.0 12_0.0 13_0.0 14_1.0 15_4.0 16_2.0 17_2.0 18_4.0 19_4.0 20_2.0 21_5 22_3.0 23_White 24_Female 25_2.0 26_Married 27_Own 28_Not in Labor Force 29_lrircsnp 30_MSA, Not Principle  City 31_1.0 32_0.0 33_nan 34_nan\n",
      "{}\n",
      "0_3.0 1_1.0 2_1.0 3_1.0 4_0.0 5_1.0 6_1.0 7_1.0 8_1.0 9_0.0 10_0.0 11_0.0 12_0.0 13_1.0 14_1.0 15_5.0 16_2.0 17_4.0 18_4.0 19_4.0 20_2.0 21_2 22_3.0 23_Black 24_Female 25_2.0 26_Not Married 27_Own 28_Employed 29_lzgpxyit 30_Non-MSA 31_0.0 32_1.0 33_fcxhlnwr 34_mxkfnird\n",
      "{}\n",
      "0_2.0 1_2.0 2_0.0 3_1.0 4_0.0 5_1.0 6_1.0 7_0.0 8_1.0 9_0.0 10_0.0 11_0.0 12_0.0 13_1.0 14_1.0 15_4.0 16_4.0 17_1.0 18_5.0 19_5.0 20_1.0 21_3 22_4.0 23_White 24_Female 25_3.0 26_Not Married 27_Own 28_Employed 29_mlyzmhmf 30_MSA, Principle City 31_0.0 32_2.0 33_fcxhlnwr 34_cmhcxjea\n",
      "{}\n",
      "ok\n"
     ]
    }
   ],
   "source": [
    "count = 0\n",
    "for ind, body_str in test_corpus.iterrows():\n",
    "    count+=1\n",
    "    print(*body_str.values)\n",
    "    dict_obj = model.predictTags(*body_str.values, 0)\n",
    "    print(dict_obj)\n",
    "    dict_obj = sorted(dict_obj.items(), key=itemgetter(1), reverse=True)\n",
    "    if count > 5: break\n",
    "\n",
    "print('ok')"
   ],
   "metadata": {
    "collapsed": false,
    "pycharm": {
     "name": "#%%\n"
    }
   }
  },
  {
   "cell_type": "code",
   "execution_count": 10,
   "outputs": [],
   "source": [],
   "metadata": {
    "collapsed": false,
    "pycharm": {
     "name": "#%%\n"
    }
   }
  }
 ],
 "metadata": {
  "kernelspec": {
   "display_name": "Python 3",
   "language": "python",
   "name": "python3"
  },
  "language_info": {
   "codemirror_mode": {
    "name": "ipython",
    "version": 2
   },
   "file_extension": ".py",
   "mimetype": "text/x-python",
   "name": "python",
   "nbconvert_exporter": "python",
   "pygments_lexer": "ipython2",
   "version": "2.7.6"
  }
 },
 "nbformat": 4,
 "nbformat_minor": 0
}